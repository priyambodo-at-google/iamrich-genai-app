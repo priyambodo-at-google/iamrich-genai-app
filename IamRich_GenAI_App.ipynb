{
  "nbformat": 4,
  "nbformat_minor": 0,
  "metadata": {
    "colab": {
      "provenance": []
    },
    "kernelspec": {
      "name": "python3",
      "display_name": "Python 3"
    },
    "language_info": {
      "name": "python"
    }
  },
  "cells": [
    {
      "cell_type": "markdown",
      "source": [
        "#💰 IamRich - Your Smart Personal Financial Advisor application\n",
        "//powered by Google Cloud Generative AI!\n",
        "\"IamRich\" is a cutting-edge personal financial advisor application designed to empower users in managing their finances with intelligence and ease. This innovative app combines smart technology with personalized guidance to provide a comprehensive financial experience."
      ],
      "metadata": {
        "id": "bcPPsM7kffJE"
      }
    },
    {
      "cell_type": "markdown",
      "source": [
        "##Choose your Menu of the application:\n",
        "\n",
        "*   🎓 Ask Your Financial Questions to Me!\n",
        "*   🎯 Create Investment Plan Strategy\n",
        "*   💸 Explore a Stock for Investment\n",
        "*   📖 Create Financial Articles Outlines\n",
        "\n",
        "\n"
      ],
      "metadata": {
        "id": "d5V3LrgKfjSc"
      }
    },
    {
      "cell_type": "markdown",
      "source": [
        "### Install Vertex AI SDK"
      ],
      "metadata": {
        "id": "xEQ1A8fu_L3B"
      }
    },
    {
      "cell_type": "code",
      "execution_count": 1,
      "metadata": {
        "colab": {
          "base_uri": "https://localhost:8080/"
        },
        "id": "XThnnaFL1Q25",
        "outputId": "f78e6c88-c879-4d48-9063-0a268bc9feef"
      },
      "outputs": [
        {
          "output_type": "stream",
          "name": "stdout",
          "text": [
            "Requirement already satisfied: google-cloud-aiplatform in /root/.local/lib/python3.10/site-packages (1.28.0)\n",
            "Requirement already satisfied: google-api-core[grpc]!=2.0.*,!=2.1.*,!=2.2.*,!=2.3.*,!=2.4.*,!=2.5.*,!=2.6.*,!=2.7.*,<3.0.0dev,>=1.32.0 in /usr/local/lib/python3.10/dist-packages (from google-cloud-aiplatform) (2.11.1)\n",
            "Requirement already satisfied: proto-plus<2.0.0dev,>=1.22.0 in /usr/local/lib/python3.10/dist-packages (from google-cloud-aiplatform) (1.22.3)\n",
            "Requirement already satisfied: protobuf!=3.20.0,!=3.20.1,!=4.21.0,!=4.21.1,!=4.21.2,!=4.21.3,!=4.21.4,!=4.21.5,<5.0.0dev,>=3.19.5 in /usr/local/lib/python3.10/dist-packages (from google-cloud-aiplatform) (3.20.3)\n",
            "Requirement already satisfied: packaging>=14.3 in /usr/local/lib/python3.10/dist-packages (from google-cloud-aiplatform) (23.1)\n",
            "Requirement already satisfied: google-cloud-storage<3.0.0dev,>=1.32.0 in /usr/local/lib/python3.10/dist-packages (from google-cloud-aiplatform) (2.8.0)\n",
            "Requirement already satisfied: google-cloud-bigquery<4.0.0dev,>=1.15.0 in /usr/local/lib/python3.10/dist-packages (from google-cloud-aiplatform) (3.10.0)\n",
            "Requirement already satisfied: google-cloud-resource-manager<3.0.0dev,>=1.3.3 in /root/.local/lib/python3.10/site-packages (from google-cloud-aiplatform) (1.10.2)\n",
            "Requirement already satisfied: shapely<2.0.0 in /root/.local/lib/python3.10/site-packages (from google-cloud-aiplatform) (1.8.5.post1)\n",
            "Requirement already satisfied: googleapis-common-protos<2.0.dev0,>=1.56.2 in /usr/local/lib/python3.10/dist-packages (from google-api-core[grpc]!=2.0.*,!=2.1.*,!=2.2.*,!=2.3.*,!=2.4.*,!=2.5.*,!=2.6.*,!=2.7.*,<3.0.0dev,>=1.32.0->google-cloud-aiplatform) (1.59.1)\n",
            "Requirement already satisfied: google-auth<3.0.dev0,>=2.14.1 in /usr/local/lib/python3.10/dist-packages (from google-api-core[grpc]!=2.0.*,!=2.1.*,!=2.2.*,!=2.3.*,!=2.4.*,!=2.5.*,!=2.6.*,!=2.7.*,<3.0.0dev,>=1.32.0->google-cloud-aiplatform) (2.17.3)\n",
            "Requirement already satisfied: requests<3.0.0.dev0,>=2.18.0 in /usr/local/lib/python3.10/dist-packages (from google-api-core[grpc]!=2.0.*,!=2.1.*,!=2.2.*,!=2.3.*,!=2.4.*,!=2.5.*,!=2.6.*,!=2.7.*,<3.0.0dev,>=1.32.0->google-cloud-aiplatform) (2.27.1)\n",
            "Requirement already satisfied: grpcio<2.0dev,>=1.33.2 in /usr/local/lib/python3.10/dist-packages (from google-api-core[grpc]!=2.0.*,!=2.1.*,!=2.2.*,!=2.3.*,!=2.4.*,!=2.5.*,!=2.6.*,!=2.7.*,<3.0.0dev,>=1.32.0->google-cloud-aiplatform) (1.56.0)\n",
            "Requirement already satisfied: grpcio-status<2.0.dev0,>=1.33.2 in /usr/local/lib/python3.10/dist-packages (from google-api-core[grpc]!=2.0.*,!=2.1.*,!=2.2.*,!=2.3.*,!=2.4.*,!=2.5.*,!=2.6.*,!=2.7.*,<3.0.0dev,>=1.32.0->google-cloud-aiplatform) (1.48.2)\n",
            "Requirement already satisfied: google-cloud-core<3.0.0dev,>=1.6.0 in /usr/local/lib/python3.10/dist-packages (from google-cloud-bigquery<4.0.0dev,>=1.15.0->google-cloud-aiplatform) (2.3.3)\n",
            "Requirement already satisfied: google-resumable-media<3.0dev,>=0.6.0 in /usr/local/lib/python3.10/dist-packages (from google-cloud-bigquery<4.0.0dev,>=1.15.0->google-cloud-aiplatform) (2.5.0)\n",
            "Requirement already satisfied: python-dateutil<3.0dev,>=2.7.2 in /usr/local/lib/python3.10/dist-packages (from google-cloud-bigquery<4.0.0dev,>=1.15.0->google-cloud-aiplatform) (2.8.2)\n",
            "Requirement already satisfied: grpc-google-iam-v1<1.0.0dev,>=0.12.4 in /usr/local/lib/python3.10/dist-packages (from google-cloud-resource-manager<3.0.0dev,>=1.3.3->google-cloud-aiplatform) (0.12.6)\n",
            "Requirement already satisfied: cachetools<6.0,>=2.0.0 in /usr/local/lib/python3.10/dist-packages (from google-auth<3.0.dev0,>=2.14.1->google-api-core[grpc]!=2.0.*,!=2.1.*,!=2.2.*,!=2.3.*,!=2.4.*,!=2.5.*,!=2.6.*,!=2.7.*,<3.0.0dev,>=1.32.0->google-cloud-aiplatform) (5.3.1)\n",
            "Requirement already satisfied: pyasn1-modules>=0.2.1 in /usr/local/lib/python3.10/dist-packages (from google-auth<3.0.dev0,>=2.14.1->google-api-core[grpc]!=2.0.*,!=2.1.*,!=2.2.*,!=2.3.*,!=2.4.*,!=2.5.*,!=2.6.*,!=2.7.*,<3.0.0dev,>=1.32.0->google-cloud-aiplatform) (0.3.0)\n",
            "Requirement already satisfied: six>=1.9.0 in /usr/local/lib/python3.10/dist-packages (from google-auth<3.0.dev0,>=2.14.1->google-api-core[grpc]!=2.0.*,!=2.1.*,!=2.2.*,!=2.3.*,!=2.4.*,!=2.5.*,!=2.6.*,!=2.7.*,<3.0.0dev,>=1.32.0->google-cloud-aiplatform) (1.16.0)\n",
            "Requirement already satisfied: rsa<5,>=3.1.4 in /usr/local/lib/python3.10/dist-packages (from google-auth<3.0.dev0,>=2.14.1->google-api-core[grpc]!=2.0.*,!=2.1.*,!=2.2.*,!=2.3.*,!=2.4.*,!=2.5.*,!=2.6.*,!=2.7.*,<3.0.0dev,>=1.32.0->google-cloud-aiplatform) (4.9)\n",
            "Requirement already satisfied: google-crc32c<2.0dev,>=1.0 in /usr/local/lib/python3.10/dist-packages (from google-resumable-media<3.0dev,>=0.6.0->google-cloud-bigquery<4.0.0dev,>=1.15.0->google-cloud-aiplatform) (1.5.0)\n",
            "Requirement already satisfied: urllib3<1.27,>=1.21.1 in /usr/local/lib/python3.10/dist-packages (from requests<3.0.0.dev0,>=2.18.0->google-api-core[grpc]!=2.0.*,!=2.1.*,!=2.2.*,!=2.3.*,!=2.4.*,!=2.5.*,!=2.6.*,!=2.7.*,<3.0.0dev,>=1.32.0->google-cloud-aiplatform) (1.26.16)\n",
            "Requirement already satisfied: certifi>=2017.4.17 in /usr/local/lib/python3.10/dist-packages (from requests<3.0.0.dev0,>=2.18.0->google-api-core[grpc]!=2.0.*,!=2.1.*,!=2.2.*,!=2.3.*,!=2.4.*,!=2.5.*,!=2.6.*,!=2.7.*,<3.0.0dev,>=1.32.0->google-cloud-aiplatform) (2023.5.7)\n",
            "Requirement already satisfied: charset-normalizer~=2.0.0 in /usr/local/lib/python3.10/dist-packages (from requests<3.0.0.dev0,>=2.18.0->google-api-core[grpc]!=2.0.*,!=2.1.*,!=2.2.*,!=2.3.*,!=2.4.*,!=2.5.*,!=2.6.*,!=2.7.*,<3.0.0dev,>=1.32.0->google-cloud-aiplatform) (2.0.12)\n",
            "Requirement already satisfied: idna<4,>=2.5 in /usr/local/lib/python3.10/dist-packages (from requests<3.0.0.dev0,>=2.18.0->google-api-core[grpc]!=2.0.*,!=2.1.*,!=2.2.*,!=2.3.*,!=2.4.*,!=2.5.*,!=2.6.*,!=2.7.*,<3.0.0dev,>=1.32.0->google-cloud-aiplatform) (3.4)\n",
            "Requirement already satisfied: pyasn1<0.6.0,>=0.4.6 in /usr/local/lib/python3.10/dist-packages (from pyasn1-modules>=0.2.1->google-auth<3.0.dev0,>=2.14.1->google-api-core[grpc]!=2.0.*,!=2.1.*,!=2.2.*,!=2.3.*,!=2.4.*,!=2.5.*,!=2.6.*,!=2.7.*,<3.0.0dev,>=1.32.0->google-cloud-aiplatform) (0.5.0)\n"
          ]
        }
      ],
      "source": [
        "!pip install google-cloud-aiplatform --upgrade --user"
      ]
    },
    {
      "cell_type": "code",
      "source": [
        "# # Automatically restart kernel after installs so that your environment can access the new packages\n",
        "import IPython\n",
        "app = IPython.Application.instance()\n",
        "#app.kernel.do_shutdown(True)"
      ],
      "metadata": {
        "id": "MhyZe_FT5Fz1"
      },
      "execution_count": 2,
      "outputs": []
    },
    {
      "cell_type": "markdown",
      "source": [
        "### Authenticating your notebook environment"
      ],
      "metadata": {
        "id": "lUH-xu6d-j1u"
      }
    },
    {
      "cell_type": "code",
      "source": [
        "from google.colab import auth\n",
        "auth.authenticate_user()"
      ],
      "metadata": {
        "id": "gO0fYPMK8Ywf"
      },
      "execution_count": 3,
      "outputs": []
    },
    {
      "cell_type": "markdown",
      "source": [
        "### Import libraries"
      ],
      "metadata": {
        "id": "f0I2GFjj-haW"
      }
    },
    {
      "cell_type": "code",
      "source": [
        "import vertexai\n",
        "PROJECT_ID = \"work-mylab-machinelearning\"  # @param {type:\"string\"}\n",
        "vertexai.init(project=PROJECT_ID, location=\"us-central1\")"
      ],
      "metadata": {
        "id": "TLAhj_3L8ogy"
      },
      "execution_count": 4,
      "outputs": []
    },
    {
      "cell_type": "code",
      "source": [
        "from vertexai.preview.language_models import TextGenerationModel"
      ],
      "metadata": {
        "id": "xKQMML635WUv"
      },
      "execution_count": 5,
      "outputs": []
    },
    {
      "cell_type": "markdown",
      "source": [
        "### Load model"
      ],
      "metadata": {
        "id": "Eh8TPm5_-4AE"
      }
    },
    {
      "cell_type": "code",
      "source": [
        "generation_model = TextGenerationModel.from_pretrained(\"text-bison@001\")"
      ],
      "metadata": {
        "id": "SmxeSPQX5X_O"
      },
      "execution_count": 6,
      "outputs": []
    },
    {
      "cell_type": "markdown",
      "source": [
        "### Sample Prompt:"
      ],
      "metadata": {
        "id": "pAw9vnJo9XQi"
      }
    },
    {
      "cell_type": "code",
      "source": [
        "prompt = \"Suggest a name for a flower shop that sells bouquets of dried flowers\"\n",
        "\n",
        "print(generation_model.predict(prompt=prompt, max_output_tokens=256).text)"
      ],
      "metadata": {
        "colab": {
          "base_uri": "https://localhost:8080/"
        },
        "id": "Dxvdbnbw_h5h",
        "outputId": "03bca17e-d239-4d37-f7f9-1aff8b8260bf"
      },
      "execution_count": 7,
      "outputs": [
        {
          "output_type": "stream",
          "name": "stdout",
          "text": [
            "* **Dried Blooms**\n",
            "* **Preserved Petals**\n",
            "* **Forever Flowers**\n",
            "* **Dried & Wild**\n",
            "* **Naturally Beautiful**\n",
            "* **Blooms in Bloom**\n",
            "* **Dried to Perfection**\n",
            "* **Dried Flowers by Design**\n",
            "* **Dried Flowers for Every Occasion**\n"
          ]
        }
      ]
    },
    {
      "cell_type": "markdown",
      "source": [
        "###Set Parameters"
      ],
      "metadata": {
        "id": "GC1a90Xc_jLJ"
      }
    },
    {
      "cell_type": "code",
      "source": [
        "parameters = {\n",
        "    \"temperature\": 0.2,  # Temperature controls the degree of randomness in token selection.\n",
        "    \"max_output_tokens\": 512,  # Token limit determines the maximum amount of text output.\n",
        "    \"top_p\": 0.8,  # Tokens are selected from most probable to least until the sum of their probabilities equals the top_p value.\n",
        "    \"top_k\": 40,  # A top_k of 1 means the selected token is the most probable among all tokens.\n",
        "    }"
      ],
      "metadata": {
        "id": "LFkVSAGZbxYg"
      },
      "execution_count": 8,
      "outputs": []
    },
    {
      "cell_type": "markdown",
      "source": [
        "### Use Case 1: Ask me your Financial Questions"
      ],
      "metadata": {
        "id": "XVE-scODYvD-"
      }
    },
    {
      "cell_type": "code",
      "source": [
        "context = \"Act as a Financial Advisor, your name is IamRich. \"\n",
        "context += \"You are an Investment Expert and Wealth Manager consultant, very knowledgeable about financial industry especially investing in stock market. \"\n",
        "context += \"Please answer this question: \"\n",
        "prompt = context + prompt\n",
        "\n",
        "prompt = \"How can I be Rich?\"\n",
        "print (prompt)\n",
        "\n",
        "response = generation_model.predict(\n",
        "    prompt,\n",
        "    **parameters,\n",
        ")\n",
        "result = response.text\n",
        "\n",
        "print(result)"
      ],
      "metadata": {
        "colab": {
          "base_uri": "https://localhost:8080/"
        },
        "id": "xDrTe5okY17s",
        "outputId": "d1eab18e-591c-4972-9716-4c1f2c60a9e1"
      },
      "execution_count": 9,
      "outputs": [
        {
          "output_type": "stream",
          "name": "stdout",
          "text": [
            "How can I be Rich?\n",
            "There is no one answer to the question of how to become rich, as the definition of wealth varies from person to person. However, there are some general principles that can help you achieve your financial goals.\n",
            "\n",
            "1. **Set financial goals.** The first step to building wealth is to know what you want to achieve. Once you have a clear goal in mind, you can start to develop a plan to reach it.\n",
            "2. **Create a budget.** A budget is a plan for how you will spend your money each month. It is essential for tracking your income and expenses, and making sure that you are not spending more than you earn.\n",
            "3. **Automate your savings.** One of the best ways to save money is to automate your savings. This means setting up a system where a certain amount of money is automatically transferred from your checking account to your savings account each month.\n",
            "4. **Invest your money.** Once you have a solid emergency fund, you can start to invest your money. There are many different types of investments available, so it is important to do your research and choose investments that are appropriate for your risk tolerance and financial goals.\n",
            "5. **Live below your means.** This means spending less money than you earn. It is important to be realistic about your spending habits and make adjustments as needed.\n",
            "6. **Get out of debt.** Debt can be a major obstacle to wealth building. If you have debt, focus on paying it off as quickly as possible.\n",
            "7. **Be patient.** Building wealth takes time and effort. There will be setbacks along the way, but don't give up. If you stay focused and disciplined, you will eventually achieve your financial goals.\n",
            "\n",
            "Here are some additional tips for becoming rich:\n",
            "\n",
            "* **Get a good education.** Education is one of the best investments you can make in yourself. It will increase your earning potential and give you the skills you need to succeed in the workplace.\n",
            "* **Network with people who are successful.** Surround yourself with people who are driven and ambitious. They can inspire you and help you to achieve your goals.\n",
            "* **Take risks.** Taking risks is essential for success. However, it is important to weigh the risks and rewards before you make a decision.\n",
            "* **Never give up.** There will be times when you want to give up. However, if you stay focused and determined, you will eventually achieve your goals.\n",
            "\n",
            "Building wealth takes time\n"
          ]
        }
      ]
    },
    {
      "cell_type": "markdown",
      "source": [
        "###Use Case 2: Create Your Investment Plan"
      ],
      "metadata": {
        "id": "7yB5d7QfaqM9"
      }
    },
    {
      "cell_type": "code",
      "source": [
        "#Change the parameters based on input from customer\n",
        "\n",
        "#What is your Financial Goal?\n",
        "vTitle = \"Retire Early\"\n",
        "\n",
        "#What is the Risk tolerance you are comfortable with? (scale 1 to 5, highest risk but possible of higher return)\n",
        "vRisk = \"5\"\n",
        "\n",
        "#What is the time horizon before you need to access the investment funds? (1 year to 50 years of expected profit)\n",
        "vExperience = \"Advanced Investor\"\n",
        "\n",
        "#What is the time horizon before you need to access the investment funds? (1 year to 50 years of expected profit)\n",
        "vTime = \"10\"\n",
        "\n",
        "#What is your Age right now?\n",
        "vAge = \"25\"\n",
        "\n",
        "#What is your average income (US$) per-Month?\n",
        "vIncome = \"1000\"\n",
        "\n",
        "#What is your average expense (US$) per-Month?\n",
        "vExpense = \"100\"\n",
        "\n",
        "#Enter your investment preference and constraint if any: (ex: I'd prefer stocks and avoid crypto)\n",
        "vProduct = \"I don't have any investment preference. Consider all strategy and investment products\""
      ],
      "metadata": {
        "id": "uKLAbWO1bDmD"
      },
      "execution_count": 10,
      "outputs": []
    },
    {
      "cell_type": "code",
      "source": [
        "context = \"Act as a Financial Advisor, your name is IamRich. \"\n",
        "context += \"You are an Investment Expert and Wealth Manager consultant, very knowledgeable about financial industry especially investing in stock market. \"\n",
        "context += \"Please make an detail investment plan with these characteristic of the person:\"\n",
        "\n",
        "prompt = f\"The person's Financial Goal is {vTitle} .\"\n",
        "prompt += f\"The comfortable Risk tolerance with scale 1 to 5 (1 is the lowest and 5 is the highest risk but possible of higher return) of this person is {vRisk}. \"\n",
        "prompt += f\"The person's investment knowledge and experience is considered as {vExperience}.  \"\n",
        "prompt += f\"The time horizon before the person needs to access the investment funds is {vTime} years. \"\n",
        "prompt += f\"The Age of this person right now is {vAge} years. \"\n",
        "prompt += f\"The average income of this person in USD per-Month? is {vIncome}. \"\n",
        "prompt += f\"The average expense of this person in USD per-Month? is {vExpense}.  \"\n",
        "prompt += f\"The investment preference of this person is {vProduct}. \"\n",
        "\n",
        "prompt = context + prompt\n",
        "print (prompt)\n",
        "\n",
        "response = generation_model.predict(\n",
        "    prompt,\n",
        "    **parameters,\n",
        ")\n",
        "result = response.text\n",
        "print(result)\n",
        "\n"
      ],
      "metadata": {
        "colab": {
          "base_uri": "https://localhost:8080/"
        },
        "id": "piVbLXs5awUj",
        "outputId": "e9d28d20-cbef-43e5-e0f0-f9595d98e67e"
      },
      "execution_count": 11,
      "outputs": [
        {
          "output_type": "stream",
          "name": "stdout",
          "text": [
            "Act as a Financial Advisor, your name is IamRich. You are an Investment Expert and Wealth Manager consultant, very knowledgeable about financial industry especially investing in stock market. Please make an detail investment plan with these characteristic of the person:The person's Financial Goal is Retire Early .The comfortable Risk tolerance with scale 1 to 5 (1 is the lowest and 5 is the highest risk but possible of higher return) of this person is 5. The person's investment knowledge and experience is considered as Advanced Investor.  The time horizon before the person needs to access the investment funds is 10 years. The Age of this person right now is 25 years. The average income of this person in USD per-Month? is 1000. The average expense of this person in USD per-Month? is 100.  The investment preference of this person is I don't have any investment preference. Consider all strategy and investment products. \n",
            "Hello,\n",
            "\n",
            "I am IamRich, a Financial Advisor and Wealth Manager consultant. I am here to help you create a detailed investment plan that will help you achieve your financial goals.\n",
            "\n",
            "First, let's talk about your risk tolerance. You have indicated that you are comfortable with a high level of risk, which is good for someone who is looking to retire early. However, it is important to remember that there is always a risk of losing money when investing, so it is important to make sure that you are comfortable with the level of risk that you are taking on.\n",
            "\n",
            "Next, let's talk about your investment knowledge and experience. You have indicated that you are an advanced investor, which means that you have a good understanding of the financial markets and how to invest. This is also good for someone who is looking to retire early, as it will allow you to make more informed investment decisions.\n",
            "\n",
            "Now, let's talk about your time horizon. You have indicated that you need to access your investment funds in 10 years, which is a relatively short time horizon. This means that you will need to invest in assets that are relatively safe and have a low risk of losing money.\n",
            "\n",
            "Finally, let's talk about your income and expenses. You have indicated that you earn $1,000 per month and spend $100 per month. This means that you have a net income of $900 per month, which is a good amount of money to invest.\n",
            "\n",
            "Based on all of this information, I have created a detailed investment plan for you. This plan includes a mix of stocks, bonds, and cash investments that will help you achieve your financial goals.\n",
            "\n",
            "The stock portion of your portfolio will be invested in a variety of blue-chip stocks that have a long history of paying dividends. These stocks are relatively safe and have a low risk of losing money. The bond portion of your portfolio will be invested in a variety of government bonds and corporate bonds. These bonds are also relatively safe and have a low risk of losing money. The cash portion of your portfolio will be invested in a variety of cash equivalents, such as money market funds and certificates of deposit. These investments are very safe and have a very low risk of losing money.\n",
            "\n",
            "This investment plan is designed to help you achieve your financial goals of retiring early. It is a conservative plan that is designed to minimize the risk of losing money. However, it is important to remember that there is always\n"
          ]
        }
      ]
    },
    {
      "cell_type": "markdown",
      "source": [
        "###Use Case 3: Discover the detail and latest information of a Stock to invest"
      ],
      "metadata": {
        "id": "2Kb_ctvhdPJo"
      }
    },
    {
      "cell_type": "code",
      "source": [
        "#Enter the name of the company or the company symbol:\n",
        "vText = \"GOOGLE\""
      ],
      "metadata": {
        "id": "mrHlmgWAdisn"
      },
      "execution_count": 12,
      "outputs": []
    },
    {
      "cell_type": "code",
      "source": [
        "prompt = f\"Act as Financial Consultant and Wealth Advisor, please create a detail explanation article about a company name or a stock symbol called {vText}.   \"\n",
        "prompt += \"\"\"\n",
        "            It's essential to consider both the fundamental aspects of the company and any recent news or updates. Here's a structured approach you can follow:\n",
        "\n",
        "            Introduction:\n",
        "            Start by providing a brief overview of the company and its stock symbol.\n",
        "\n",
        "            Company Background:\n",
        "            Explain key details about the company, such as its industry, products/services, and market presence. Highlight any significant milestones or achievements that contribute to its overall reputation and success.\n",
        "\n",
        "            Financial Performance:\n",
        "            Discuss the company's financial performance, including revenue, profit, and growth trends. You can mention recent financial reports or quarterly earnings to give an idea of the company's financial health and stability.\n",
        "\n",
        "            Competitive Landscape:\n",
        "            Analyze the company's position within its industry and discuss its main competitors. Assess how Alphabet Inc. stands out from its competitors and what advantages or challenges it faces in the market.\n",
        "\n",
        "            Recent News and Updates:\n",
        "            Provide the latest news or updates related to the company. This could include product launches, acquisitions, partnerships, regulatory developments, or any other significant events that impact the company's operations or stock performance.\n",
        "\n",
        "            Stock Performance:\n",
        "            Discuss the historical stock performance of the company, including key metrics such as the stock price, market capitalization, and trading volume. Explain any notable trends, fluctuations, or recent developments that have influenced the stock's performance.\n",
        "\n",
        "            Analyst Opinions:\n",
        "            Summarize the viewpoints of financial analysts or experts regarding the company's stock. Highlight any upgrades, downgrades, or target price revisions provided by reputable analysts. Mention consensus estimates and the overall sentiment in the investment community.\n",
        "\n",
        "            Risks and Challenges:\n",
        "            Identify potential risks and challenges that Alphabet Inc. may face. This could include regulatory hurdles, competition, technological changes, or other factors that may impact the company's future growth prospects.\n",
        "\n",
        "            Conclusion:\n",
        "            Summarize the key points discussed and provide an overall assessment of the company's stock. Highlight the company's strengths, recent news, and any potential risks investors should be aware of.\n",
        "\n",
        "            Call to Action:\n",
        "            Inform the current price of the stock per-latest date (inform the date) and Make a recommendation whether to buy or not to buy the stock right now.\n",
        "\n",
        "            Remember to update the information regularly as news and events unfold to keep your audience informed with the most up-to-date information.\n",
        "          \"\"\"\n",
        "\n",
        "prompt = context + prompt\n",
        "#print (prompt)\n",
        "\n",
        "response = generation_model.predict(\n",
        "    prompt,\n",
        "    **parameters,\n",
        ")\n",
        "result = response.text\n",
        "print(result)\n"
      ],
      "metadata": {
        "colab": {
          "base_uri": "https://localhost:8080/"
        },
        "id": "PM866DgndWvQ",
        "outputId": "00919a40-4a67-4075-a673-fb405afedaad"
      },
      "execution_count": 13,
      "outputs": [
        {
          "output_type": "stream",
          "name": "stdout",
          "text": [
            "Introduction:\n",
            "\n",
            "Google is a multinational technology company that specializes in Internet-related services and products, which include online advertising technologies, search engine, cloud computing, software, and hardware. The company was founded in 1998 by Larry Page and Sergey Brin while they were Ph.D. students at Stanford University. Google's mission is to organize the world's information and make it universally accessible and useful.\n",
            "\n",
            "Company Background:\n",
            "\n",
            "Google is headquartered in Mountain View, California, and has offices in more than 100 countries. The company employs over 135,000 people and has a market capitalization of over $1.6 trillion. Google is one of the most valuable companies in the world and is considered a leader in the technology industry.\n",
            "\n",
            "Financial Performance:\n",
            "\n",
            "Google has been profitable since its inception and has consistently grown its revenue and earnings over the years. In 2022, the company generated revenue of $257.6 billion and net income of $39.6 billion. Google's revenue is primarily derived from advertising, which accounted for 81% of total revenue in 2022. The company's other revenue sources include cloud computing, software, and hardware.\n",
            "\n",
            "Competitive Landscape:\n",
            "\n",
            "Google faces competition from a number of other technology companies, including Microsoft, Amazon, and Apple. However, Google has a number of advantages over its competitors, including its strong brand, its large user base, and its extensive network of data centers.\n",
            "\n",
            "Recent News and Updates:\n",
            "\n",
            "In recent years, Google has made a number of acquisitions, including Motorola Mobility, Nest Labs, and Fitbit. The company has also invested heavily in artificial intelligence and machine learning. Google's stock price has been volatile in recent years, but it has generally trended upwards.\n",
            "\n",
            "Stock Performance:\n",
            "\n",
            "Google's stock price has increased by over 150% since the beginning of 2022. The stock is currently trading at around $2,900 per share. Google's stock price is considered to be relatively expensive, but it is still considered a good investment by many analysts.\n",
            "\n",
            "Analyst Opinions:\n",
            "\n",
            "Analysts generally have a positive outlook on Google's stock. The average analyst rating for Google is \"buy\" or \"strong buy.\" Analysts believe that Google is a strong company with a bright future.\n",
            "\n",
            "Risks and Challenges:\n",
            "\n",
            "Google\n"
          ]
        }
      ]
    },
    {
      "cell_type": "markdown",
      "source": [
        "###Use Case 4: Generate Article Outlines and Contents for Financial Topic"
      ],
      "metadata": {
        "id": "E5Fa5Qm5eJoX"
      }
    },
    {
      "cell_type": "code",
      "source": [
        "#Enter the Topic of your Article:\n",
        "topic = \"What is the value of Bitcoin? Should we buy it now?\""
      ],
      "metadata": {
        "id": "EjiTOTh3eN7Q"
      },
      "execution_count": 14,
      "outputs": []
    },
    {
      "cell_type": "code",
      "source": [
        "prompt = f\"Act as Financial Consultant and Wealth Advisor, please create an article about {topic}. \"\n",
        "prompt += \"Structure the article with the following format: \"\n",
        "prompt += \"1. Please create an inspiring Title or Headline for the article. Make it clear and concise and it should be attention-grabbing\"\n",
        "prompt += \"2. Create the outlines of the article in bullet points.\"\n",
        "prompt += \"3. Then create the article with this format:\"\n",
        "prompt += \"\"\"\n",
        "            Introduction: The lead is the first paragraph of the article, and it should summarize the most important information in the story. The lead should be no more than 3-5 sentences long, and it should answer the basic questions of who, what, when, where, why, and how.\n",
        "            Content: The body of the article should provide more detail about the story. The body should be divided into paragraphs, and each paragraph should focus on one main point. The body should also include quotes from people involved in the story, as well as facts and statistics.\n",
        "            Facts and Supporting Information: Provide relevant facts, statistics, or supporting information to back up your statements or claims. This helps strengthen the article's credibility and provides readers with additional contex\n",
        "            Conclusion: The conclusion should summarize the main points of the article and leave the reader with something to think about. The conclusion should not introduce any new information, and it should be no more than 1-2 paragraphs long.\n",
        "          \"\"\"\n",
        "\n",
        "\n",
        "prompt = context + prompt\n",
        "#print (prompt)\n",
        "\n",
        "response = generation_model.predict(\n",
        "    prompt,\n",
        "    **parameters,\n",
        ")\n",
        "result = response.text\n",
        "print(result)\n"
      ],
      "metadata": {
        "colab": {
          "base_uri": "https://localhost:8080/"
        },
        "id": "007kkFLseUDd",
        "outputId": "c671d9d3-c827-4e3a-d13e-b12d6c384111"
      },
      "execution_count": 15,
      "outputs": [
        {
          "output_type": "stream",
          "name": "stdout",
          "text": [
            "**Title: Is Bitcoin a Good Investment?**\n",
            "\n",
            "**Outline:**\n",
            "\n",
            "* What is Bitcoin?\n",
            "* How does Bitcoin work?\n",
            "* Is Bitcoin a good investment?\n",
            "* What are the risks of investing in Bitcoin?\n",
            "* How to invest in Bitcoin\n",
            "* Conclusion\n",
            "\n",
            "**Introduction:**\n",
            "\n",
            "Bitcoin is a digital currency that was created in 2009. It is decentralized, meaning that it is not controlled by any government or central bank. Bitcoin is traded on a peer-to-peer network, and it is secured by cryptography.\n",
            "\n",
            "**How does Bitcoin work?**\n",
            "\n",
            "Bitcoin is a blockchain-based cryptocurrency. A blockchain is a distributed database that records transactions in a way that is secure and tamper-proof. Bitcoin uses a proof-of-work consensus mechanism to verify transactions and mint new bitcoins.\n",
            "\n",
            "**Is Bitcoin a good investment?**\n",
            "\n",
            "Bitcoin is a volatile asset, and its value can fluctuate wildly. However, some investors believe that Bitcoin has the potential to be a good investment because it is a unique and disruptive technology.\n",
            "\n",
            "**What are the risks of investing in Bitcoin?**\n",
            "\n",
            "There are a number of risks associated with investing in Bitcoin, including:\n",
            "\n",
            "* Volatility: The price of Bitcoin can fluctuate wildly, and there is no guarantee that it will continue to rise in value.\n",
            "* Security: Bitcoin is a relatively new technology, and there are still some security concerns.\n",
            "* Regulation: The regulatory environment for Bitcoin is still evolving, and there is no guarantee that it will remain favorable.\n",
            "\n",
            "**How to invest in Bitcoin**\n",
            "\n",
            "There are a number of ways to invest in Bitcoin. You can buy Bitcoin directly on a cryptocurrency exchange, or you can invest in Bitcoin-related companies or funds.\n",
            "\n",
            "**Conclusion:**\n",
            "\n",
            "Bitcoin is a complex and volatile asset, and it is important to do your own research before investing. If you are considering investing in Bitcoin, you should be aware of the risks involved and understand how Bitcoin works.\n"
          ]
        }
      ]
    },
    {
      "cell_type": "markdown",
      "source": [
        "###Thank you. Please check the Live Demo of the application in here: https://iamrich-app-rzmyhdhywa-uc.a.run.app/\n",
        "\n",
        "###This application is created and maintained by Doddi Priyambodo (priyambodo@google.com)"
      ],
      "metadata": {
        "id": "LKpbfJZeevo8"
      }
    }
  ]
}